{
  "nbformat": 4,
  "nbformat_minor": 0,
  "metadata": {
    "colab": {
      "name": "C3D ConvNet.ipynb",
      "provenance": [],
      "collapsed_sections": [],
      "authorship_tag": "ABX9TyMNyHEmpjOLv/atJ6G4Tw4Y",
      "include_colab_link": true
    },
    "kernelspec": {
      "name": "python3",
      "display_name": "Python 3"
    },
    "language_info": {
      "name": "python"
    }
  },
  "cells": [
    {
      "cell_type": "markdown",
      "metadata": {
        "id": "view-in-github",
        "colab_type": "text"
      },
      "source": [
        "<a href=\"https://colab.research.google.com/github/da-head0/cctv-anomaly-detection/blob/main/C3D_ConvNet.ipynb\" target=\"_parent\"><img src=\"https://colab.research.google.com/assets/colab-badge.svg\" alt=\"Open In Colab\"/></a>"
      ]
    },
    {
      "cell_type": "code",
      "metadata": {
        "id": "N2bhBjV9QVIu"
      },
      "source": [
        "import tensorflow as tf\n",
        "from tensorflow import keras\n",
        "from keras.models import Sequential\n",
        "from keras.layers import Dense, Dropout, Conv3D, MaxPooling3D, Flatten, Dropout"
      ],
      "execution_count": 1,
      "outputs": []
    },
    {
      "cell_type": "code",
      "metadata": {
        "id": "ZQHmXaMeSxoD"
      },
      "source": [
        "def get_model():\n",
        "  model = Sequential()\n",
        "  input_shape = (16, 112, 112, 3) # 프레임 개수, 영상 높이, 영상 너비, 채널 수\n",
        "\n",
        "  # 1st layer     # filter, kernal-높이,깊이,너비의 크기 - 3D 요소를 형성. 3,3,3이 가장 성능이 좋더라...\n",
        "  # padding = same으로 하면 패딩이 균등하게 이루어진다. \n",
        "  model.add(Conv3D(64, kernel_size=(3, 3, 3), activation='relu',padding='same', name='conv1', input_shape=input_shape))\n",
        "  \n",
        "  # stride = 1로 input output size 차이가 없게 함\n",
        "  # pooling은 첫번째 레이어만 1x2x2 - 시간적 신호를 너무 일찍 merge 시키지 않기 위해서\n",
        "  model.add(MaxPooling3D(pool_size=(1,2,2), strides=(1,1,1), padding='valid', name='pool1'))\n",
        "\n",
        "  # 2nd layer\n",
        "  model.add(Conv3D(128,kernel_size=(3, 3, 3), activation='relu',padding='same', name='conv2', input_shape=input_shape))\n",
        "  model.add(MaxPooling3D(pool_size=(2,2,2), strides=(1,1,1), padding='valid', name='pool2'))\n",
        "\n",
        "  # 3rd layer\n",
        "  model.add(Conv3D(256, kernel_size=(3, 3, 3), activation='relu',padding='same', name='conv3', input_shape=input_shape))\n",
        "  model.add(MaxPooling3D(pool_size=(2,2,2), strides=(1,1,1), padding='valid', name='pool3'))\n",
        "\n",
        "  # 4th layer\n",
        "  model.add(Conv3D(256, kernel_size=(3, 3, 3), activation='relu',padding='same', name='conv4', input_shape=input_shape))\n",
        "  model.add(MaxPooling3D(pool_size=(2,2,2), strides=(1,1,1), padding='valid', name='pool4'))\n",
        "\n",
        "  # 5th layer\n",
        "  model.add(Conv3D(256, kernel_size=(3, 3, 3), activation='relu',padding='same', name='conv5', input_shape=input_shape))\n",
        "  model.add(MaxPooling3D(pool_size=(2,2,2), strides=(1,1,1), padding='valid', name='pool5'))\n",
        "  \n",
        "  model.add(Flatten())# 처리하려면 넣어주어야 하나...\n",
        "\n",
        "# 2 fully connected layers - 2048 outputs\n",
        "  model.add(Dense(2048, activation='relu', name='fc1'))\n",
        "  model.add(Dropout(.5))\n",
        "  # dropout을 넣어주어야 하나?\n",
        "  model.add(Dense(2048, activation='relu', name='fc2'))\n",
        "  model.add(Dropout(.5))\n",
        "\n",
        "  # softmax loss layer\n",
        "  model.add(Dense(20, activation='softmax'))\n",
        "  model.summary()\n",
        "\n",
        "get_model()"
      ],
      "execution_count": null,
      "outputs": []
    },
    {
      "cell_type": "markdown",
      "metadata": {
        "id": "WaZRgfFATrb7"
      },
      "source": [
        "- 영상 크기를 112 x 112로 하는 이유는 이 사이즈가 가장 파라미터 수 대비 계산 효율과 성능이 좋게 나오기 때문이다."
      ]
    },
    {
      "cell_type": "code",
      "metadata": {
        "id": "-7mOAml3Z-UX"
      },
      "source": [
        "# Model configuration\n",
        "batch_size = 30\n",
        "no_epochs = 16\n",
        "learning_rate = 0.003 # divided by 10 after every 4 epochs\n",
        "no_classes = 13 # 분류할 행동의 갯수"
      ],
      "execution_count": null,
      "outputs": []
    }
  ]
}